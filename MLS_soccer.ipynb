{
 "cells": [
  {
   "cell_type": "markdown",
   "metadata": {},
   "source": [
    "# Major League Soccer Player & Salary 2007-2022\n",
    "\n",
    "##### Introduction\n",
    "This project analyses salary and player data for the MLS between years 2007-2022. \\\n",
    "PDF-files (16 files, one for each year) were converted into csv-files using tabula.\\\n",
    "The dataset contains the name of the \"Club\" of a respective player, the players \"First Name\", \"Last Name\", \"Base Salary\", and Guaranteed \"Compensation\". The respective relevant year was added as extra column in Excel, so data can be analysed according to year after merging all data into one DataFrame.\n",
    "\n",
    "The data was obtained from https://mlsplayers.org/resources/salary-guide in pdf files, which also contains explanations on Guaranteed Compensation versus Base Salary.\n",
    "\n",
    "This notebook produces some csv files used for Streamlit application and is only used for EDA"
   ]
  },
  {
   "cell_type": "markdown",
   "metadata": {},
   "source": [
    "#### Import modules"
   ]
  },
  {
   "cell_type": "code",
   "execution_count": null,
   "metadata": {},
   "outputs": [],
   "source": [
    "# importing the required modules\n",
    "import glob\n",
    "import pandas as pd\n",
    "import scipy as sp\n",
    "import os\n",
    "import seaborn as sns\n",
    "import matplotlib.pyplot as plt\n",
    "%matplotlib inline\n",
    "pd.set_option('display.max_rows', 600)"
   ]
  },
  {
   "cell_type": "markdown",
   "metadata": {},
   "source": [
    "#### Specify directory containing csv files and concat into one large df"
   ]
  },
  {
   "cell_type": "code",
   "execution_count": null,
   "metadata": {},
   "outputs": [],
   "source": [
    "#current dir\n",
    "cwd = os.getcwd()\n",
    "# specifying the path to csv files\n",
    "path = cwd\n",
    "path"
   ]
  },
  {
   "cell_type": "code",
   "execution_count": null,
   "metadata": {},
   "outputs": [],
   "source": [
    "# csv files in the path\n",
    "file_list = glob.glob(path + \"/*.csv\")\n",
    "#print(file_list)\n",
    " \n",
    "# list of csv files to merge\n",
    "# pd.read_csv(file_path) reads the \n",
    "# csv data into pandas dataframe\n",
    "csv_list = []\n",
    " \n",
    "for file in file_list:\n",
    "    csv_list.append(pd.read_csv(file))\n",
    "\n",
    "# concatenate all DataFrames in the list\n",
    "# into a single DataFrame, returns new\n",
    "# DataFrame\n",
    "csv_merged = pd.concat(csv_list, ignore_index=True)\n",
    "mls_data = csv_merged\n",
    "mls_data.head(5)"
   ]
  },
  {
   "cell_type": "markdown",
   "metadata": {},
   "source": [
    "#### Read in csv file containing club name and abbreviation sport code"
   ]
  },
  {
   "cell_type": "code",
   "execution_count": null,
   "metadata": {},
   "outputs": [],
   "source": [
    "clubs_mls = pd.read_csv('C:/Users/aruta/Dropbox/Python/Jupyter/MLS_data/Clubs_MLS.csv', header=None)\n",
    "clubs_mls.columns = [\"Club\", \"Full Club\"]\n",
    "clubs_mls.head(20)"
   ]
  },
  {
   "cell_type": "markdown",
   "metadata": {},
   "source": [
    "## EDA"
   ]
  },
  {
   "cell_type": "markdown",
   "metadata": {},
   "source": [
    "#### pre-processing/evaluation"
   ]
  },
  {
   "cell_type": "code",
   "execution_count": null,
   "metadata": {},
   "outputs": [],
   "source": [
    "#DF overview\n",
    "mls_data.info()"
   ]
  },
  {
   "cell_type": "code",
   "execution_count": null,
   "metadata": {},
   "outputs": [],
   "source": [
    "#check Club names for consistency and occurence\n",
    "mls_data[\"Club\"].value_counts()"
   ]
  },
  {
   "cell_type": "code",
   "execution_count": null,
   "metadata": {},
   "outputs": [],
   "source": [
    "print(mls_data[mls_data[\"Club\"] == \"Pool\"].head(5))\n",
    "mls_data[mls_data[\"Club\"] == \"Major League Soccer\"].head(5)"
   ]
  },
  {
   "cell_type": "code",
   "execution_count": null,
   "metadata": {},
   "outputs": [],
   "source": [
    "#check player position (Pos) for consistency and occurence\n",
    "mls_data[\"Pos\"].value_counts()"
   ]
  },
  {
   "cell_type": "markdown",
   "metadata": {},
   "source": [
    "EDA has revealed a few areas for cleanup:\n",
    "* Base Salary and Compensation are of type object (contain string), and need to change to numeric values for calculations\n",
    "* The Pos naming seems inconsistent across the years - sometimes positions are designated D-M, M-D, D/M etc. - these positions will be treated as same\n",
    "* For some years the Club name is given as a three-letter code, in other years the Club name is provided in full - this needs to be consistent across the dataset for analysis. There are also some inconsistent spellings, and some surprising Club names, such as Pool, Major League Soccer, None, Retired - need to check what those reflect and possibly remove before analysis if sensible. \n",
    "* Further, Los Angeles has two teams in the MLS in the later years (LA Galaxy, Los Angeles FC). Los Angeles FC are in the MLS as of 2018, so entries with LA prior to that year represents LA Galaxy, who have been in the MLS much longer. The abbreviation for Los Angeles in mls_data (and in the original data) is LAGFC, which seems a mistake and should read LAFC (as in club_mls df). Similar, New York has two teams in the MLS - New York Red Bulls and New York City FC - New York City FC entered MLS in 2016, so every year before the designation NY refers to New York Red Bulls (NYR in club_mls df). Information on MLS teams for LA and NY were obtained from Wikipedia. Montreal is another example of possibly two teams. "
   ]
  },
  {
   "cell_type": "markdown",
   "metadata": {},
   "source": [
    "#### cleanup"
   ]
  },
  {
   "cell_type": "code",
   "execution_count": null,
   "metadata": {},
   "outputs": [],
   "source": [
    "# change Base salary column to numeric\n",
    "mls_data[\"Base Salary\"] = mls_data[\"Base Salary\"].str[:-3]\n",
    "mls_data[\"Base Salary\"] = mls_data[\"Base Salary\"].str.replace(\",\", \"\")\n",
    "mls_data[\"Base Salary\"] = mls_data[\"Base Salary\"].str.replace(\".\", \"\")\n",
    "mls_data[\"Base Salary\"] = mls_data[\"Base Salary\"].str.replace(\"-\", \"\")\n",
    "mls_data[\"Base Salary\"] = mls_data[\"Base Salary\"].str.replace(\" \", \"\")\n",
    "mls_data[\"Base Salary\"] = mls_data[\"Base Salary\"].str.replace(\"$\", \"\")\n",
    "mls_data[\"Base Salary\"] = pd.to_numeric(mls_data[\"Base Salary\"])\n",
    "# change Compensation column to numeric\n",
    "mls_data[\"Compensation\"] = mls_data[\"Compensation\"].str[:-3]\n",
    "mls_data[\"Compensation\"] = mls_data[\"Compensation\"].str.replace(\",\", \"\")\n",
    "mls_data[\"Compensation\"] = mls_data[\"Compensation\"].str.replace(\".\", \"\")\n",
    "mls_data[\"Compensation\"] = mls_data[\"Compensation\"].str.replace(\"-\", \"\")\n",
    "mls_data[\"Compensation\"] = mls_data[\"Compensation\"].str.replace(\" \", \"\")\n",
    "mls_data[\"Compensation\"] = mls_data[\"Compensation\"].str.replace(\"$\", \"\")\n",
    "mls_data[\"Compensation\"] = pd.to_numeric(mls_data[\"Compensation\"])\n",
    "# homogenize position designation\n",
    "mls_data[\"Pos\"] = mls_data[\"Pos\"].str.replace(\"F-M\", \"M-F\")\n",
    "mls_data[\"Pos\"] = mls_data[\"Pos\"].str.replace(\"M/F\", \"M-F\")\n",
    "mls_data[\"Pos\"] = mls_data[\"Pos\"].str.replace(\"M-D\", \"D-M\")\n",
    "mls_data[\"Pos\"] = mls_data[\"Pos\"].str.replace(\"D/M\", \"D-M\")\n",
    "mls_data[\"Pos\"] = mls_data[\"Pos\"].str.replace(\"D/F\", \"D-F\")\n",
    "mls_data[\"Pos\"] = mls_data[\"Pos\"].str.replace(\"F-D\", \"D-F\")\n",
    "mls_data[\"Pos\"] = mls_data[\"Pos\"].str.replace(\"MF\", \"M-F\")\n",
    "mls_data[\"Pos\"] = mls_data[\"Pos\"].str.replace(\"M/D\", \"D-M\")\n",
    "mls_data[\"Pos\"] = mls_data[\"Pos\"].str.replace(\"F/M\", \"M-F\")\n",
    "# correct some CLub names and align with club_mls abbreviation where possible\n",
    "mls_data[\"Club\"] = mls_data[\"Club\"].str.replace(\"New England Revolutio\", \"New England Revolution\")\n",
    "mls_data[\"Club\"] = mls_data[\"Club\"].str.replace(\"New England Revolutionn\", \"New England Revolution\")\n",
    "mls_data[\"Club\"] = mls_data[\"Club\"].str.replace(\"POOL\", \"Pool\")\n",
    "mls_data[\"Club\"] = mls_data[\"Club\"].str.replace(\"OOL\", \"Pool\")\n",
    "mls_data[\"Club\"] = mls_data[\"Club\"].str.replace(\"DC\", \"DCU\")\n",
    "mls_data[\"Club\"] = mls_data[\"Club\"].str.replace(\"LA\", \"LAG\")\n",
    "mls_data[\"Club\"] = mls_data[\"Club\"].str.replace(\"LAGFC\", \"LAF\")\n",
    "mls_data[\"Club\"] = mls_data[\"Club\"].str.replace(\"LAFC\", \"LAF\")\n",
    "mls_data[\"Club\"] = mls_data[\"Club\"].str.replace(\"NY\", \"NYR\")\n",
    "mls_data[\"Club\"] = mls_data[\"Club\"].str.replace(\"NYRRB\", \"NYR\")\n",
    "mls_data[\"Club\"] = mls_data[\"Club\"].str.replace(\"NE\", \"NER\")\n",
    "mls_data[\"Club\"] = mls_data[\"Club\"].str.replace(\"NYRCFC\", \"NYC\")\n",
    "mls_data[\"Club\"] = mls_data[\"Club\"].str.replace(\"YCFC\", \"NYC\")\n",
    "mls_data[\"Club\"] = mls_data[\"Club\"].str.replace(\"MNUFC\", \"MIN\")\n",
    "mls_data[\"Club\"] = mls_data[\"Club\"].str.replace(\"SJ\", \"SJE\")\n",
    "mls_data[\"Club\"] = mls_data[\"Club\"].str.replace(\"POR\", \"POT\")\n",
    "mls_data[\"Club\"] = mls_data[\"Club\"].str.replace(\"TOR\", \"TFC\")\n",
    "mls_data[\"Club\"] = mls_data[\"Club\"].str.replace(\"KC\", \"SKC\")\n",
    "#club_mls remove of (USA) (CAN) strings\n",
    "clubs_mls[\"Full Club\"] = clubs_mls[\"Full Club\"].str[:-6]"
   ]
  },
  {
   "cell_type": "code",
   "execution_count": null,
   "metadata": {},
   "outputs": [],
   "source": [
    "# confirm Base Salary and Compensation has changed to numeric\n",
    "mls_data.dtypes"
   ]
  },
  {
   "cell_type": "code",
   "execution_count": null,
   "metadata": {},
   "outputs": [],
   "source": [
    "#confirm consistent Pos designation following cleanup\n",
    "mls_data[\"Pos\"].value_counts()"
   ]
  },
  {
   "cell_type": "code",
   "execution_count": null,
   "metadata": {},
   "outputs": [],
   "source": [
    "#make new column and copy Club column\n",
    "mls_data[\"Team\"]=mls_data[\"Club\"]\n",
    "mls_data.head(5)"
   ]
  },
  {
   "cell_type": "code",
   "execution_count": null,
   "metadata": {},
   "outputs": [],
   "source": [
    "# merge DFs on column Club\n",
    "mls_data_clubnames = pd.merge(mls_data, clubs_mls, on='Club', how='outer')\n",
    "mls_data_clubnames"
   ]
  },
  {
   "cell_type": "code",
   "execution_count": null,
   "metadata": {},
   "outputs": [],
   "source": [
    "# remove rows wih certain entries in column Club\n",
    "mls_data_clubnames = mls_data_clubnames[mls_data_clubnames[\"Club\"] != \"Pool\"]\n",
    "mls_data_clubnames = mls_data_clubnames[mls_data_clubnames[\"Club\"] != \"None\"]\n",
    "mls_data_clubnames = mls_data_clubnames[mls_data_clubnames[\"Club\"] != \"Retired\"]\n",
    "#mls_data_clubnames = mls_data_clubnames[mls_data_clubnames[\"Team\"] != \"Charlotte FC\"]\n",
    "#mls_data_clubnames = mls_data_clubnames[mls_data_clubnames[\"Club\"] != \"CHL\"]\n",
    "mls_data_clubnames = mls_data_clubnames[mls_data_clubnames[\"Club\"].notna()]\n",
    "mls_data_clubnames = mls_data_clubnames.drop('Full Club', 1)\n",
    "# create column with unique player identification\n",
    "mls_data_clubnames[\"uniquename\"] = mls_data_clubnames[\"Last Name\"] + '_' + mls_data_clubnames[\"First Name\"]"
   ]
  },
  {
   "cell_type": "code",
   "execution_count": null,
   "metadata": {},
   "outputs": [],
   "source": [
    "full_name_array = [\"Charlotte FC\", \"Club Deportivo Chivas\",\"Columbus Crew\",\"New York Red Bulls\",\"New England Revolution\", \\\n",
    "                   \"Atlanta United\", \"FC Dallas\",\"Vancouver Whitecaps\",\"Toronto FC\",\"Real Salt Lake\", \\\n",
    "                   \"Orlando City SC\",\"LAG Galaxy\",\"Minnesota United\", \"San Jose Earthquakes\", \"Houston Dynamo\", \\\n",
    "                   \"Philadelphia Union\", \"Colorado Rapids\", \"Chicago Fire\", \"Sporting Kansas City\", \"Portland Timbers\", \\\n",
    "                   \"New York City FC\", \"Seattle Sounders FC\", \"DCU United\", \"FC Cincinnati\", \\\n",
    "                   \"New England Revolution\", \"Nashville SC\", \"Inter Miami\", \"Austin FC\", \"Major League Soccer\", \\\n",
    "                   \"Los Angeles FC\", \"Montreal\", \"Montreal Impact\", \"Montreal\"]\n",
    "abbrev_array = [\"CHL\", \"CHV\",\"CLB\",\"NYR\",\"NER\",\"ATL\",\"DAL\", \"VAN\", \"TFC\", \"RSL\", \"ORL\", \"LAG\", \"MIN\", \"SJE\", \"HOU\", \"PHI\", \"COL\", \\\n",
    "               \"CHI\", \"SKC\", \"POT\", \"NYC\", \"SEA\", \"DCU\", \"CIN\", \"NER\", \"NSC\", \"MIA\", \"AUS\", \"MLS\", \"LAF\", \"CFM\", \"CFM\", \"MTL\"]\n",
    "#full_name_array = clubs_mls[\"Full Club\"].tolist()\n",
    "#abbrev_array = clubs_mls[\"Club\"].tolist()\n",
    "for i in range(len(abbrev_array)):\n",
    "    mask = mls_data_clubnames[\"Team\"] == full_name_array[i]\n",
    "    mls_data_clubnames.loc[mask, 'Club'] = abbrev_array[i]    \n",
    "for i in range(len(abbrev_array)):\n",
    "    mask = mls_data_clubnames[\"Club\"] == abbrev_array[i]\n",
    "    mls_data_clubnames.loc[mask, 'Team'] = full_name_array[i] "
   ]
  },
  {
   "cell_type": "code",
   "execution_count": null,
   "metadata": {},
   "outputs": [],
   "source": [
    "mls_data_clubnames = mls_data_clubnames[mls_data_clubnames['Base Salary'].notna()]\n",
    "mls_data_clubnames[\"Club\"].value_counts()"
   ]
  },
  {
   "cell_type": "code",
   "execution_count": null,
   "metadata": {},
   "outputs": [],
   "source": [
    "mls_data_clubnames[\"Year\"] = mls_data_clubnames[\"Year\"].astype(int)"
   ]
  },
  {
   "cell_type": "code",
   "execution_count": null,
   "metadata": {},
   "outputs": [],
   "source": [
    "mls_data_clubnames.to_csv('..\\\\mls_clean.csv', index=False)"
   ]
  },
  {
   "cell_type": "markdown",
   "metadata": {},
   "source": [
    "After cleanup, the Club and Team names are consistent across the years, as are the designations of player positions (Pos column). Finally, non-useful entries were removed (such as retired players)."
   ]
  },
  {
   "cell_type": "markdown",
   "metadata": {},
   "source": [
    "## Analysis"
   ]
  },
  {
   "cell_type": "markdown",
   "metadata": {},
   "source": [
    "### Highest and lowest paid player across the years 2007-2022"
   ]
  },
  {
   "cell_type": "markdown",
   "metadata": {},
   "source": [
    "#### Focus on highest paid players\n",
    "* Identify highest paid players \n",
    "* Are distinct playing positions associated with highest pay?"
   ]
  },
  {
   "cell_type": "code",
   "execution_count": null,
   "metadata": {},
   "outputs": [],
   "source": [
    "idx = mls_data_clubnames.groupby(['Year'])['Compensation'].transform(max) == mls_data_clubnames['Compensation']\n",
    "highest_paid_player_each_year = mls_data_clubnames[idx].sort_values(by=['Year'])\n",
    "highest_paid_player_each_year.reset_index()\n",
    "highest_paid_player_each_year"
   ]
  },
  {
   "cell_type": "code",
   "execution_count": null,
   "metadata": {},
   "outputs": [],
   "source": [
    "#grid = sns.FacetGrid(highest_paid_players, col = \"Year\", hue = \"Last Name\", col_wrap=4)\n",
    "# plt.figure(figsize=(6, 6))\n",
    "# sns.barplot(y = highest_paid_player_each_year[\"Last Name\"], x = highest_paid_player_each_year[\"Compensation\"], hue = highest_paid_player_each_year['Year'], orient='h')\n",
    "# plt.legend(bbox_to_anchor=(1.02, 1), loc='upper left', borderaxespad=0)\n",
    "\n",
    "# idx = mls_data_clubnames.groupby(['Year'])['Compensation'].transform(max) == mls_data_clubnames['Compensation']\n",
    "# highest_paid_player_each_year = mls_data_clubnames[idx].sort_values(by=['Year'])\n",
    "# #plt.figure(figsize=(6, 6))\n",
    "# x=sns.barplot(x = highest_paid_player_each_year[\"Year\"].astype(int), y = highest_paid_player_each_year[\"Compensation\"], hue = highest_paid_player_each_year['Last Name'], dodge=False)\n",
    "# plt.ylabel(\"Compensation in million $\")\n",
    "# plt.legend(bbox_to_anchor=(1.02, 1), loc='upper left', borderaxespad=0)\n",
    "# plt.title(\"Highest paid players per year\")\n",
    "# plt.xticks(rotation=45)\n",
    "# plt.show()"
   ]
  },
  {
   "cell_type": "code",
   "execution_count": null,
   "metadata": {},
   "outputs": [],
   "source": [
    "#plt.figure(figsize=(6, 6))\n",
    "sns.barplot(x = highest_paid_player_each_year[\"Year\"].astype(int), y = highest_paid_player_each_year[\"Compensation\"], hue = highest_paid_player_each_year['Last Name'], dodge=False)\n",
    "plt.ylabel(\"Compensation in million $\")\n",
    "plt.legend(bbox_to_anchor=(1.02, 1), loc='upper left', borderaxespad=0)\n",
    "plt.title(\"Highest paid players per year\")\n",
    "plt.xticks(rotation=45)\n",
    "plt.show()"
   ]
  },
  {
   "cell_type": "code",
   "execution_count": null,
   "metadata": {},
   "outputs": [],
   "source": [
    "# check how many times a highest oaid player has been top earner in MLS\n",
    "highest_paid_player_each_year[\"Last Name\"].value_counts()"
   ]
  },
  {
   "cell_type": "code",
   "execution_count": null,
   "metadata": {},
   "outputs": [],
   "source": [
    "# check which team has had highest paid players\n",
    "highest_paid_player_each_year[\"Team\"].value_counts()"
   ]
  },
  {
   "cell_type": "code",
   "execution_count": null,
   "metadata": {},
   "outputs": [],
   "source": [
    "# check positions of highest paid players\n",
    "highest_paid_player_each_year[\"Pos\"].value_counts()"
   ]
  },
  {
   "cell_type": "markdown",
   "metadata": {},
   "source": [
    "Intermediate observations on highest paid players:\n",
    "* It seems that highest paid players are largely foreigners that have played professional football in leagues considered stronger than MLS.\n",
    "* Also, it seems that midfielders or forwards are highest paid players, whereas defenders or goalkeepers are not represented. This needs further evaluation."
   ]
  },
  {
   "cell_type": "code",
   "execution_count": null,
   "metadata": {},
   "outputs": [],
   "source": [
    "#ratio of players in MLS between 2007-2022\n",
    "#rppay - ratio player position all years\n",
    "rppay = mls_data_clubnames[\"Pos\"].value_counts().tolist()\n",
    "rppay_list = []\n",
    "for i in range(len(rppay)):\n",
    "    rppay_list.append(float('%.4f' %(rppay[i]/mls_data_clubnames[\"Pos\"].value_counts().sum())))\n",
    "print(rppay_list)\n",
    "pos_list_mls = mls_data_clubnames[\"Pos\"].value_counts().reset_index()[\"index\"].tolist()\n",
    "print(pos_list_mls)"
   ]
  },
  {
   "cell_type": "code",
   "execution_count": null,
   "metadata": {},
   "outputs": [],
   "source": [
    "#rhpppay - ratio highest paid player position all years\n",
    "rhpppay = highest_paid_player_each_year[\"Pos\"].value_counts().tolist()\n",
    "rhpppay_list = []\n",
    "for i in range(len(rhpppay)):\n",
    "    rhpppay_list.append(float('%.4f' %(rhpppay[i]/highest_paid_player_each_year[\"Pos\"].value_counts().sum())))\n",
    "print(rhpppay_list)\n",
    "pos_list_rhpppay = highest_paid_player_each_year[\"Pos\"].value_counts().reset_index()[\"index\"].tolist()\n",
    "#pos_list_rhpppay"
   ]
  },
  {
   "cell_type": "code",
   "execution_count": null,
   "metadata": {},
   "outputs": [],
   "source": [
    "df_pos_ratio_mls_h = pd.DataFrame(list(zip(pos_list_mls, rppay_list)),\n",
    "              columns=['Pos','Pos ratio MLS'])\n",
    "df_pos_ratio_rhpppay = pd.DataFrame(list(zip(pos_list_rhpppay, rhpppay_list)),\n",
    "              columns=['Pos','Pos ratio highest paid'])\n",
    "x = pd.merge(df_pos_ratio_mls_h, df_pos_ratio_rhpppay, on='Pos', how='outer')\n",
    "# save file for streamlit\n",
    "x_ = x[[\"Pos\", \"Pos ratio MLS\"]]\n",
    "x_.to_csv(\"..\\\\player_ratio_pos_mls.csv\", index=False)\n",
    "x = pd.merge(df_pos_ratio_mls_h, df_pos_ratio_rhpppay, on='Pos', how='outer').dropna()\n",
    "x                                                                              "
   ]
  },
  {
   "cell_type": "code",
   "execution_count": null,
   "metadata": {},
   "outputs": [],
   "source": [
    "idx = mls_data_clubnames.groupby(['Year'])['Compensation'].transform(min) == mls_data_clubnames['Compensation']\n",
    "lowest_paid_player_each_year = mls_data_clubnames[idx].sort_values(by=['Year', 'Team'])\n",
    "#lowest_paid_player_each_year"
   ]
  },
  {
   "cell_type": "code",
   "execution_count": null,
   "metadata": {},
   "outputs": [],
   "source": [
    "#rlpppay - ratio lowest paid player position all years\n",
    "rlpppay = lowest_paid_player_each_year[\"Pos\"].value_counts().tolist()\n",
    "rlpppay_list = []\n",
    "for i in range(len(rlpppay)):\n",
    "    rlpppay_list.append(float('%.4f' %(rlpppay[i]/lowest_paid_player_each_year[\"Pos\"].value_counts().sum())))\n",
    "print(rlpppay_list)\n",
    "pos_list_rlpppay = lowest_paid_player_each_year[\"Pos\"].value_counts().reset_index()[\"index\"].tolist()\n",
    "pos_list_rlpppay"
   ]
  },
  {
   "cell_type": "code",
   "execution_count": null,
   "metadata": {},
   "outputs": [],
   "source": [
    "df_pos_ratio_mls_l = pd.DataFrame(list(zip(pos_list_mls, rppay_list)),\n",
    "              columns=['Pos','Pos ratio MLS'])\n",
    "df_pos_ratio_rlpppay = pd.DataFrame(list(zip(pos_list_rlpppay, rlpppay_list)),\n",
    "              columns=['Pos','Pos ratio lowest paid'])\n",
    "y = pd.merge(df_pos_ratio_mls_l, df_pos_ratio_rlpppay, on='Pos', how='outer').dropna()"
   ]
  },
  {
   "cell_type": "code",
   "execution_count": null,
   "metadata": {},
   "outputs": [],
   "source": [
    "# Chi-Square GOF - number of expected values likely too small for Chi_square GOF test\n",
    "# but will still evaluate\n",
    "obs_exp_chi_squ_h = pd.merge(x, y, on='Pos', how='outer')\n",
    "obs_exp_chi_squ_h['Expected_value'] = obs_exp_chi_squ_h['Pos ratio MLS_x']*highest_paid_player_each_year[\"Pos\"].value_counts().sum()\n",
    "obs_exp_chi_squ_h['Observed_value'] = obs_exp_chi_squ_h['Pos ratio highest paid']*highest_paid_player_each_year[\"Pos\"].value_counts().sum()\n",
    "obs_exp_chi_squ_h['O-E_square/expected'] = ((obs_exp_chi_squ_h['Observed_value'] - obs_exp_chi_squ_h['Expected_value'])**2)/obs_exp_chi_squ_h['Expected_value']\n",
    "obs_exp_chi_squ_h['O-E_square/expected'] = obs_exp_chi_squ_h['O-E_square/expected'].round(2)\n",
    "obs_exp_chi_squ_h = obs_exp_chi_squ_h.drop([\"Pos ratio lowest paid\", \"Pos ratio MLS_y\"], axis=1)\n",
    "# check if statistic can be evaluated, or too many expected value below threshold\n",
    "#show ob, exp value table\n",
    "print(obs_exp_chi_squ_h)\n",
    "print(sp.stats.chisquare(f_obs=obs_exp_chi_squ_h.Observed_value, f_exp=obs_exp_chi_squ_h.Expected_value))"
   ]
  },
  {
   "cell_type": "code",
   "execution_count": null,
   "metadata": {},
   "outputs": [],
   "source": [
    "obs_exp_chi_squ_h"
   ]
  },
  {
   "cell_type": "markdown",
   "metadata": {},
   "source": [
    "As indicated by \"O-E_square/expected\" for Pos M (4.96) and D (2.47), midfielders and forwards seem to be over-represented among the highest paid players. However, due to the small sample size (only 16), Chi-square GOF can't be assessed (Power_divergenceResult(statistic=nan, pvalue=nan)."
   ]
  },
  {
   "cell_type": "markdown",
   "metadata": {},
   "source": [
    "#### Focus on top ten paid players each year\n",
    "The analysis of a potential association of highest salary with a players position needs more data points to check statistics. Instead of using only the highest paid player for each year, we'll use the top ten paid players for each year"
   ]
  },
  {
   "cell_type": "code",
   "execution_count": null,
   "metadata": {},
   "outputs": [],
   "source": [
    "top_ten_paid_each_year = mls_data_clubnames.sort_values(['Year','Compensation'],ascending = False).groupby('Year').head(10) "
   ]
  },
  {
   "cell_type": "code",
   "execution_count": null,
   "metadata": {},
   "outputs": [],
   "source": [
    "tt_year = 2022\n",
    "top_ten_paid_each_year_year = top_ten_paid_each_year[top_ten_paid_each_year[\"Year\"] == tt_year]\n",
    "#plt.figure(figsize=(6, 6))\n",
    "sns.barplot(x = top_ten_paid_each_year_year[\"Last Name\"], y = top_ten_paid_each_year_year[\"Compensation\"], hue= top_ten_paid_each_year_year[\"Club\"], dodge=False)\n",
    "plt.ylabel(\"Compensation in million $\")\n",
    "plt.legend(bbox_to_anchor=(1.02, 1), loc='upper left', borderaxespad=0)\n",
    "plt.title(f'Top ten paid players in year {tt_year}')\n",
    "plt.xticks(rotation=60)\n",
    "plt.show()"
   ]
  },
  {
   "cell_type": "code",
   "execution_count": null,
   "metadata": {},
   "outputs": [],
   "source": [
    "top_ten_paid_each_year[\"Pos\"].value_counts()"
   ]
  },
  {
   "cell_type": "code",
   "execution_count": null,
   "metadata": {},
   "outputs": [],
   "source": [
    "#rtthpppay - ratio top ten highest paid player position all years\n",
    "rtthpppay = top_ten_paid_each_year[\"Pos\"].value_counts().tolist()\n",
    "rtthpppay_list = []\n",
    "for i in range(len(rtthpppay)):\n",
    "    rtthpppay_list.append(float('%.4f' %(rtthpppay[i]/top_ten_paid_each_year[\"Pos\"].value_counts().sum())))\n",
    "print(rtthpppay_list)\n",
    "pos_list_rtthpppay = top_ten_paid_each_year[\"Pos\"].value_counts().reset_index()[\"index\"].tolist()\n",
    "pos_list_rtthpppay"
   ]
  },
  {
   "cell_type": "code",
   "execution_count": null,
   "metadata": {},
   "outputs": [],
   "source": [
    "df_pos_ratio_mls_tt = pd.DataFrame(list(zip(pos_list_mls, rppay_list)),\n",
    "              columns=['Pos','Pos ratio MLS'])\n",
    "df_pos_ratio_rtthpppay = pd.DataFrame(list(zip(pos_list_rtthpppay, rtthpppay_list)),\n",
    "              columns=['Pos','Pos ratio top ten paid'])\n",
    "#z = pd.merge(df_pos_ratio_mls_tt, df_pos_ratio_rtthpppay, on='Pos', how='outer').dropna()\n",
    "z = pd.merge(df_pos_ratio_mls_tt, df_pos_ratio_rtthpppay, on='Pos', how='outer')\n",
    "z[\"Pos ratio top ten paid\"] = z[\"Pos ratio top ten paid\"].fillna(0)\n",
    "z"
   ]
  },
  {
   "cell_type": "code",
   "execution_count": null,
   "metadata": {},
   "outputs": [],
   "source": [
    "obs_exp_chi_squ_tt = z\n",
    "obs_exp_chi_squ_tt['Expected_value'] = obs_exp_chi_squ_tt['Pos ratio MLS']*top_ten_paid_each_year[\"Pos\"].value_counts().sum()\n",
    "obs_exp_chi_squ_tt['Observed_value'] = obs_exp_chi_squ_tt['Pos ratio top ten paid']*top_ten_paid_each_year[\"Pos\"].value_counts().sum()\n",
    "obs_exp_chi_squ_tt['O-E_square/expected'] = ((obs_exp_chi_squ_tt['Observed_value'] - obs_exp_chi_squ_tt['Expected_value'])**2)/obs_exp_chi_squ_tt['Expected_value']\n",
    "obs_exp_chi_squ_tt['O-E_square/expected'] = obs_exp_chi_squ_tt['O-E_square/expected']\n",
    "obs_exp_chi_squ_tt = obs_exp_chi_squ_tt.drop([\"Pos ratio top ten paid\", \"Pos ratio MLS\"], axis=1)\n",
    "# only keep M,F,D,GK for Chi-square\n",
    "# obs_exp_chi_squ_tt = obs_exp_chi_squ_tt.iloc[:-3]\n",
    "obs_exp_chi_squ_tt.to_csv('..\\\\top_ten_paid_obs_exp.csv', index=False)\n",
    "#show ob, exp value table\n",
    "print(obs_exp_chi_squ_tt)\n",
    "#Chi-square GOF stats\n",
    "print(sp.stats.chisquare(f_obs=obs_exp_chi_squ_tt.Observed_value, f_exp=obs_exp_chi_squ_tt.Expected_value))"
   ]
  },
  {
   "cell_type": "code",
   "execution_count": null,
   "metadata": {},
   "outputs": [],
   "source": [
    "pvalue = sp.stats.chisquare(f_obs=obs_exp_chi_squ_tt.Observed_value, f_exp=obs_exp_chi_squ_tt.Expected_value)[1]\n",
    "print('p-value ' + '{:.3g}'.format(pvalue))"
   ]
  },
  {
   "cell_type": "code",
   "execution_count": null,
   "metadata": {},
   "outputs": [],
   "source": [
    "pie, ax = plt.subplots(figsize=[10,6])\n",
    "labels = obs_exp_chi_squ_tt[\"Pos\"]\n",
    "plt.pie(x=obs_exp_chi_squ_tt[\"Expected_value\"], autopct=\"%.1f%%\", explode=[0.03]*len(obs_exp_chi_squ_tt[\"Observed_value\"]), labels=labels, pctdistance=0.5, colors=[\"#CDAD00\", \"#5CACEE\", \"#9FB6CD\", \"#F8F8FF\", \"#FF7D40\"])\n",
    "plt.title(\"Distribution of playing position of players in MLS 2007-2022\", fontsize=14);\n",
    "plt.show()\n",
    "\n",
    "pie, ax = plt.subplots(figsize=[10,6])\n",
    "labels = obs_exp_chi_squ_tt[\"Pos\"]\n",
    "plt.pie(x=obs_exp_chi_squ_tt[\"Observed_value\"], autopct=\"%.1f%%\", explode=[0.03]*len(obs_exp_chi_squ_tt[\"Observed_value\"]), labels=labels, pctdistance=0.5, colors=[\"#CDAD00\", \"#5CACEE\", \"#9FB6CD\", \"#F8F8FF\", \"#FF7D40\"])\n",
    "plt.title(\"Distribution of playing positions of top ten highest paid players 2007-2022\", fontsize=14);"
   ]
  },
  {
   "cell_type": "markdown",
   "metadata": {},
   "source": [
    "#### Focus on lowest paid players\n",
    "* Identify lowest paid players \n",
    "* Are distinct playing positions associated with lowest pay?"
   ]
  },
  {
   "cell_type": "code",
   "execution_count": null,
   "metadata": {},
   "outputs": [],
   "source": [
    "lowest_paid_player_each_year[\"Team\"].value_counts()"
   ]
  },
  {
   "cell_type": "code",
   "execution_count": null,
   "metadata": {},
   "outputs": [],
   "source": [
    "lowest_paid_player_each_year[\"Pos\"].value_counts()"
   ]
  },
  {
   "cell_type": "code",
   "execution_count": null,
   "metadata": {},
   "outputs": [],
   "source": [
    "obs_exp_chi_squ_l = pd.merge(x, y, on='Pos', how='outer')\n",
    "obs_exp_chi_squ_l['Expected_value'] = obs_exp_chi_squ_l['Pos ratio MLS_y']*lowest_paid_player_each_year[\"Pos\"].value_counts().sum()\n",
    "obs_exp_chi_squ_l['Observed_value'] = obs_exp_chi_squ_l['Pos ratio lowest paid']*lowest_paid_player_each_year[\"Pos\"].value_counts().sum()\n",
    "obs_exp_chi_squ_l['O-E_square/expected'] = ((obs_exp_chi_squ_l['Observed_value'] - obs_exp_chi_squ_l['Expected_value'])**2)/obs_exp_chi_squ_l['Expected_value']\n",
    "obs_exp_chi_squ_l['O-E_square/expected'] = obs_exp_chi_squ_l['O-E_square/expected'].round(2)\n",
    "obs_exp_chi_squ_l = obs_exp_chi_squ_l.drop([\"Pos ratio highest paid\", \"Pos ratio MLS_x\"], axis=1)\n",
    "# only keep M,F,D,GK for Chi-square\n",
    "obs_exp_chi_squ_l = obs_exp_chi_squ_l.iloc[:-3]\n",
    "#show ob, exp value table\n",
    "print(obs_exp_chi_squ_l)\n",
    "#Chi-square GOF stats\n",
    "print(sp.stats.chisquare(f_obs=obs_exp_chi_squ_l.Observed_value, f_exp=obs_exp_chi_squ_l.Expected_value))"
   ]
  },
  {
   "cell_type": "markdown",
   "metadata": {},
   "source": [
    "As indicated by \"O-E_square/expected\" for Pos F (3.20) and GK (5.63), forwards seem under-represented, and goalkeepers over-represented among the lowest paid players. Test stats as follows - Power_divergenceResult(statistic=9.755879986322011, pvalue=0.020759402200683178)"
   ]
  },
  {
   "cell_type": "markdown",
   "metadata": {},
   "source": [
    "#### Visualisation of Compensation for all years allocated to Pos"
   ]
  },
  {
   "cell_type": "code",
   "execution_count": null,
   "metadata": {},
   "outputs": [],
   "source": [
    "# display compensation of each year across player Pos\n",
    "grid = sns.FacetGrid(mls_data_clubnames, col = \"Year\", hue = \"Pos\", col_wrap=4)\n",
    "grid.map(sns.scatterplot, \"Pos\", \"Compensation\")\n",
    "\n",
    "grid.add_legend()\n",
    "plt.show()"
   ]
  },
  {
   "cell_type": "code",
   "execution_count": null,
   "metadata": {},
   "outputs": [],
   "source": [
    "#estimate number of bins for histogram\n",
    "bin_no = int((mls_data_clubnames[\"Compensation\"].max()-mls_data_clubnames[\"Compensation\"].min())/len(mls_data_clubnames))\n",
    "x = mls_data_clubnames[mls_data_clubnames[\"Year\"] == 2022]\n",
    "fig = plt.figure(figsize = (10,5))\n",
    "plt.hist(x.Compensation, bins=bin_no, color='skyblue', edgecolor='k', alpha=0.65)\n",
    "plt.axvline(mls_data_clubnames.Compensation.mean(), color='k', linestyle='dashed', linewidth=1, label=\"mean compensation\")\n",
    "plt.axvline(mls_data_clubnames.Compensation.median(), color='b', linestyle='dashed', linewidth=1, label=\"median compensation\")\n",
    "plt.axvline(mls_data_clubnames.Compensation.max(), color='r', linestyle='dashed', linewidth=1, label=\"max compensation\")\n",
    "plt.xlabel('Compensation')\n",
    "plt.ylabel('No of players')\n",
    "plt.title('Compensation distribution for players in 2022')\n",
    "plt.legend(loc='upper center')\n",
    "plt.show()"
   ]
  },
  {
   "cell_type": "code",
   "execution_count": null,
   "metadata": {},
   "outputs": [],
   "source": [
    "# player_all_years_sum = mls_data_clubnames.groupby(\"Year\")[\"Year\"]\n",
    "# player_all_years_sum\n",
    "# player_all_years_sum.plot(legend=True)\n",
    "# plt.show()"
   ]
  },
  {
   "cell_type": "code",
   "execution_count": null,
   "metadata": {},
   "outputs": [],
   "source": [
    "compensation_all_years_median = mls_data_clubnames.groupby(\"Year\")[\"Compensation\"].median().round(2)\n",
    "compensation_all_years_median"
   ]
  },
  {
   "cell_type": "code",
   "execution_count": null,
   "metadata": {},
   "outputs": [],
   "source": [
    "compensation_all_years_median.plot(legend=True)\n",
    "plt.ylabel('Median compensation in $')\n",
    "plt.show()"
   ]
  },
  {
   "cell_type": "code",
   "execution_count": null,
   "metadata": {},
   "outputs": [],
   "source": [
    "compensation_all_years_sum = mls_data_clubnames.groupby(\"Year\")[\"Compensation\"].sum().round(2)\n",
    "compensation_all_years_sum"
   ]
  },
  {
   "cell_type": "code",
   "execution_count": null,
   "metadata": {},
   "outputs": [],
   "source": [
    "compensation_all_years_sum.plot(legend=True)\n",
    "plt.ylabel('Total compensation in $ / year')\n",
    "plt.show()"
   ]
  },
  {
   "cell_type": "markdown",
   "metadata": {},
   "source": [
    "#### Longest serving player in MLS"
   ]
  },
  {
   "cell_type": "code",
   "execution_count": null,
   "metadata": {},
   "outputs": [],
   "source": [
    "# create df containing players ranked regarding years in MLS\n",
    "longest_serving_player_ranked = mls_data_clubnames[\"uniquename\"].value_counts().reset_index()\n",
    "\n",
    "# create function to display salary development for MLS players\n",
    "def player_compensation_history(number_of_years = 0):\n",
    "    '''This function creates a plot about compensation history of players that have served\n",
    "    x-number of years in MLS.\n",
    "    By default, players who have played longest in MLS will be shown.\n",
    "    To view plots other than those for players who have served longest in MLS, users can provide an (int)\n",
    "    argument that will be deducted from the maximum serving time.\n",
    "    '''\n",
    "    years_under_evaluation = longest_serving_player_ranked[\"uniquename\"].max() - number_of_years\n",
    "    print(f'Showing plot for players playing in the MLS for {years_under_evaluation} years')\n",
    "    longest_serving_players_name_s = longest_serving_player_ranked[longest_serving_player_ranked[\"uniquename\"] == longest_serving_player_ranked[\"uniquename\"].max() - number_of_years]\n",
    "    longest_serving_player_df = mls_data_clubnames[mls_data_clubnames['uniquename'].isin(longest_serving_players_name_s[\"index\"].tolist())]\n",
    "    longest_serving_player_df = longest_serving_player_df.sort_values([\"Last Name\", \"Year\"])\n",
    "    # plot salary development for players serving longest in MLS\n",
    "    fig_pch, ax_pch = plt.subplots(figsize=(10,4))\n",
    "    for key, grp in longest_serving_player_df.groupby(['uniquename']):\n",
    "        ax_pch.plot(grp['Year'], grp['Compensation'], label=key)\n",
    "    ax_pch.legend()\n",
    "    ax_pch.legend(bbox_to_anchor=(1.0, 1.0))\n",
    "    ax_pch.set_xlabel(\"Year\")\n",
    "    ax_pch.set_ylabel(\"Compensation in $\")\n",
    "    plt.show()"
   ]
  },
  {
   "cell_type": "code",
   "execution_count": null,
   "metadata": {},
   "outputs": [],
   "source": [
    "# checking compensation development for players with longest-, second-longest-, and\n",
    "# third-longest-serving time in MLS\n",
    "for i in range(3):\n",
    "    player_compensation_history(i)"
   ]
  }
 ],
 "metadata": {
  "kernelspec": {
   "display_name": "Python 3",
   "language": "python",
   "name": "python3"
  },
  "language_info": {
   "codemirror_mode": {
    "name": "ipython",
    "version": 3
   },
   "file_extension": ".py",
   "mimetype": "text/x-python",
   "name": "python",
   "nbconvert_exporter": "python",
   "pygments_lexer": "ipython3",
   "version": "3.8.5"
  }
 },
 "nbformat": 4,
 "nbformat_minor": 4
}
